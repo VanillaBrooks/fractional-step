{
 "cells": [
  {
   "cell_type": "code",
   "execution_count": 1,
   "id": "be800665",
   "metadata": {},
   "outputs": [],
   "source": [
    "using Plots\n",
    "using Revise"
   ]
  },
  {
   "cell_type": "code",
   "execution_count": 23,
   "id": "933025a3",
   "metadata": {},
   "outputs": [],
   "source": [
    "#include(\"./CavitySolver/src/CavitySolver.jl\")\n",
    "using CavitySolver"
   ]
  },
  {
   "cell_type": "code",
   "execution_count": 19,
   "id": "56fe106b",
   "metadata": {},
   "outputs": [
    {
     "data": {
      "text/plain": [
       "CavitySolver.Structs.Dims(128, 128, 16384, 32512, 0.0078125, 0.0078125)"
      ]
     },
     "execution_count": 19,
     "metadata": {},
     "output_type": "execute_result"
    }
   ],
   "source": [
    "length = 1.0\n",
    "height = 1.0\n",
    "nx = 128\n",
    "ny = 128\n",
    "dims = create_dims(length, height, nx, ny)"
   ]
  },
  {
   "cell_type": "code",
   "execution_count": 29,
   "id": "85351fad",
   "metadata": {},
   "outputs": [
    {
     "name": "stdout",
     "output_type": "stream",
     "text": [
      "CavitySolver.Structs.Dims"
     ]
    },
    {
     "data": {
      "text/plain": [
       "BoundaryConditions([1.0; 1.0; … ; 1.0; 1.0;;], [0.0; 0.0; … ; 0.0; 0.0;;], [0.0; 0.0; … ; 0.0; 0.0;;], [0.0; 0.0; … ; 0.0; 0.0;;], [0.0; 0.0; … ; 0.0; 0.0;;], [0.0; 0.0; … ; 0.0; 0.0;;], [0.0; 0.0; … ; 0.0; 0.0;;], [0.0; 0.0; … ; 0.0; 0.0;;])"
      ]
     },
     "execution_count": 29,
     "metadata": {},
     "output_type": "execute_result"
    }
   ],
   "source": [
    "show(typeof(dims))\n",
    "iu, iv = create_iu_iv(dims)\n",
    "ip = create_ip(dims)\n",
    "bcs = create_boundary_conditions(dims)"
   ]
  },
  {
   "cell_type": "code",
   "execution_count": 27,
   "id": "25ea2fbb",
   "metadata": {},
   "outputs": [],
   "source": [
    "q_star = zeros(dims.nu);\n",
    "q_n = zeros(dims.nu);\n"
   ]
  },
  {
   "cell_type": "code",
   "execution_count": 28,
   "id": "fade4e0b",
   "metadata": {},
   "outputs": [
    {
     "ename": "LoadError",
     "evalue": "MethodError: no method matching adv(::CavitySolver.Structs.Dims, ::BoundaryConditions, ::Matrix{Int64}, ::Matrix{Int64}, ::Matrix{Int64}, ::Vector{Float64})",
     "output_type": "error",
     "traceback": [
      "MethodError: no method matching adv(::CavitySolver.Structs.Dims, ::BoundaryConditions, ::Matrix{Int64}, ::Matrix{Int64}, ::Matrix{Int64}, ::Vector{Float64})",
      "",
      "Stacktrace:",
      " [1] top-level scope",
      "   @ In[28]:1",
      " [2] eval",
      "   @ ./boot.jl:373 [inlined]",
      " [3] include_string(mapexpr::typeof(REPL.softscope), mod::Module, code::String, filename::String)",
      "   @ Base ./loading.jl:1196"
     ]
    }
   ],
   "source": [
    "adv(dims,bcs, iu, iv, ip, q_n)"
   ]
  },
  {
   "cell_type": "code",
   "execution_count": null,
   "id": "a919e81e",
   "metadata": {},
   "outputs": [],
   "source": []
  }
 ],
 "metadata": {
  "kernelspec": {
   "display_name": "Julia 1.7.2",
   "language": "julia",
   "name": "julia-1.7"
  },
  "language_info": {
   "file_extension": ".jl",
   "mimetype": "application/julia",
   "name": "julia",
   "version": "1.7.2"
  }
 },
 "nbformat": 4,
 "nbformat_minor": 5
}
